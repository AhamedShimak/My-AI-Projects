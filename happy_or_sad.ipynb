{
  "cells": [
    {
      "cell_type": "markdown",
      "metadata": {
        "id": "view-in-github",
        "colab_type": "text"
      },
      "source": [
        "<a href=\"https://colab.research.google.com/github/AhamedShimak/My-AI-Projects/blob/main/happy_or_sad.ipynb\" target=\"_parent\"><img src=\"https://colab.research.google.com/assets/colab-badge.svg\" alt=\"Open In Colab\"/></a>"
      ]
    },
    {
      "cell_type": "markdown",
      "metadata": {
        "id": "n7Gn_JhaG7dY"
      },
      "source": [
        "## IMPORT AND MY DEFINED FUNCTIONS"
      ]
    },
    {
      "cell_type": "markdown",
      "metadata": {
        "id": "Glqkeh5CHfl-"
      },
      "source": [
        "### Imports"
      ]
    },
    {
      "cell_type": "code",
      "execution_count": 1,
      "metadata": {
        "id": "fQb72sHRBxT6"
      },
      "outputs": [],
      "source": [
        "import torch\n",
        "from torch import nn\n",
        "import pandas as pd\n",
        "import numpy as np\n",
        "import matplotlib.pyplot as plt\n",
        "\n",
        "from torchvision import transforms\n",
        "from torch.utils.data import Dataset\n",
        "from torch.utils.data import DataLoader\n",
        "from torchvision import datasets\n",
        "\n",
        "from tqdm.auto import tqdm\n",
        "import sklearn\n",
        "from sklearn.model_selection import train_test_split\n",
        "\n"
      ]
    },
    {
      "cell_type": "markdown",
      "metadata": {
        "id": "8zKnh3Aga-W_"
      },
      "source": [
        "###My functions"
      ]
    },
    {
      "cell_type": "code",
      "source": [],
      "metadata": {
        "id": "9dsuc_zRRvjP"
      },
      "execution_count": null,
      "outputs": []
    },
    {
      "cell_type": "code",
      "execution_count": 2,
      "metadata": {
        "id": "M2NYo5UqpPVa"
      },
      "outputs": [],
      "source": [
        "## Visualization #####################\n",
        "########################################################################################\n",
        "########################################################################################\n",
        "\n",
        "def details(tensor):\n",
        "  print(\"\")\n",
        "  print(\"Shape: \",tensor.shape)\n",
        "  print(\"Dimentions: \",tensor.ndim)\n",
        "  print(\"###########\")\n",
        "  print(tensor)\n",
        "  print(\"###########\")\n",
        "  print(\"Tensor Data type: \",tensor.dtype)\n",
        "  print(\"Device: \",tensor.device)\n",
        "  print(\"\")\n",
        "\n",
        "########################################################################################\n",
        "def details_plot(train_data, \n",
        "                     train_labels, \n",
        "                     test_data, \n",
        "                     test_labels,\n",
        "                     predictions=None):\n",
        "  \"\"\"\n",
        "  Plots training data, test data and compares predictions.\n",
        "  \"\"\"\n",
        "  plt.figure(figsize=(10, 7))\n",
        "\n",
        "  # Plot training data in blue\n",
        "  plt.scatter(train_data, train_labels, c=\"b\", s=4, label=\"Training data\")\n",
        "  \n",
        "  # Plot test data in green\n",
        "  plt.scatter(test_data, test_labels, c=\"g\", s=4, label=\"Testing data\")\n",
        "\n",
        "  if predictions is not None:\n",
        "    # Plot the predictions in red (predictions were made on the test data)\n",
        "    plt.scatter(test_data, predictions, c=\"r\", s=4, label=\"Predictions\")\n",
        "\n",
        "  # Show the legend\n",
        "  plt.legend(prop={\"size\": 14});\n",
        "\n",
        "\n",
        "########################################################################################\n",
        "def details_loss_curve(epochs,train_loss_track,test_loss_track):\n",
        "  #loss curve\n",
        "  plt.figure(figsize=(8,8))\n",
        "  plt.title(\"Loss curve\")\n",
        "  plt.xlabel(\"Epochs\")\n",
        "  plt.ylabel(\"Loss\")\n",
        "  plt.plot(epochs,train_loss_track,label=\"Train loss\")\n",
        "  plt.plot(epochs,test_loss_track,label=\"Test loss\")\n",
        "  plt.legend(prop={\"size\": 14})\n"
      ]
    },
    {
      "cell_type": "code",
      "execution_count": 3,
      "metadata": {
        "id": "aYgYxCDHbBTO"
      },
      "outputs": [],
      "source": [
        "## operations ##############################\n",
        "########################################################################################\n",
        "########################################################################################\n",
        "\n",
        "def accu(y_pred,y_test):\n",
        "  correct=torch.eq(y_pred.squeeze(),y_test.squeeze()).sum().item()\n",
        "  accuracy=(correct/len(y_test))*100\n",
        "  return accuracy\n",
        "\n",
        "def details_plot_scatter(x_train, x_test, y_train, y_test,\n",
        "                     predictions=None):\n",
        "  \"\"\"\n",
        "  Plots training data, test data and compares predictions.\n",
        "  \"\"\"\n",
        "  plt.figure(figsize=(10, 7))\n",
        "  plt.scatter(x_train[:,0],x_train[:,1],c=y_train,cmap=plt.cm.BrBG, s=4, label=\"Training data\")\n",
        "  plt.scatter(x_test[:,0],x_test[:,1],c=y_test, s=60, label=\"Test data\")\n",
        "  plt.legend(prop={\"size\": 14});\n",
        "  if predictions is not None:\n",
        "    # Plot the predictions in red (predictions were made on the test data)\n",
        "    plt.scatter(x_test[:,0],x_test[:,1],c=predictions, s=20, label=\"Prediction\")\n",
        "\n",
        "  # Show the legend\n",
        "  plt.legend(prop={\"size\": 14});\n",
        "\n",
        "########################################################################################\n",
        "\n",
        "#traning function \n",
        "def train(\n",
        "    train_dataloader,\n",
        "    model,\n",
        "    loss_func,\n",
        "    optimizer,\n",
        "    accu,\n",
        "    device):\n",
        "  from tqdm.auto import tqdm  \n",
        "  #loss_tracking\n",
        "  train_loss=0\n",
        "  train_loss_track=[]\n",
        "  train_accuracy=0\n",
        "\n",
        "  #train mode\n",
        "  model=model.to(device)\n",
        "  model.train()\n",
        "\n",
        "  #training loop\n",
        "  for batch, (X,y) in tqdm(enumerate(train_dataloader)):\n",
        "    #device set\n",
        "    X,y=X.to(device),y.to(device)\n",
        "\n",
        "    \n",
        "\n",
        "    #forward propegation\n",
        "    predict=model(X)\n",
        "    #loss calcilation\n",
        "    loss=loss_func(predict,y)\n",
        "    \n",
        "\n",
        "    train_loss_track.append(loss.detach().item())\n",
        "\n",
        "    #clear passed gradients\n",
        "    optimizer.zero_grad()\n",
        "    #back propogation\n",
        "    loss.backward()\n",
        "    #update new values for weight and bias\n",
        "    optimizer.step()\n",
        "\n",
        "    #print(loss,batch)\n",
        "    train_loss_track.append(loss.detach().item())\n",
        "    \n",
        "    train_loss+=loss_func(predict,y)\n",
        "    train_accuracy+=accu(predict.squeeze().argmax(dim=1),y)\n",
        "  \n",
        "  #average_loss\n",
        "  train_loss=train_loss/len(train_dataloader)\n",
        "  train_accuracy=train_accuracy/len(train_dataloader)\n",
        "\n",
        "  print(f\"Training loss: {train_loss:.5f} Train_accuracy {train_accuracy:.2f}\")\n",
        "\n",
        "########################################################################################\n",
        "\n",
        "#testing function\n",
        "\n",
        "def test(\n",
        "    test_dataloader,\n",
        "    model,\n",
        "    loss_func,\n",
        "    accu,\n",
        "    device):\n",
        "  from tqdm.auto import tqdm  \n",
        "  #loss_tracking\n",
        "  test_loss=0\n",
        "  test_loss_track=[]\n",
        "  test_accuracy=0\n",
        "\n",
        "  #testing loop\n",
        "  model.eval()\n",
        "\n",
        "  with torch.inference_mode():\n",
        "    for batch, (X,y) in tqdm(enumerate(test_dataloader)):\n",
        "      #device set\n",
        "      X,y=X.to(device),y.to(device)\n",
        "\n",
        "      \n",
        "      #forward propegation\n",
        "      predict=model(X)\n",
        "      #loss calcilation\n",
        "      loss=loss_func(predict,y)\n",
        "      \n",
        "\n",
        "      test_loss_track.append(loss.detach().item())\n",
        "\n",
        "      #print(loss,batch)\n",
        "      test_loss_track.append(loss.detach().item())\n",
        "      \n",
        "      test_loss+=loss_func(predict,y)\n",
        "      test_accuracy+=accu(predict.squeeze().argmax(dim=1),y)\n",
        "  \n",
        "  #average_loss\n",
        "  test_loss=loss/len(test_dataloader)\n",
        "  test_accuracy=test_accuracy/len(test_dataloader)\n",
        "\n",
        "  print(f\"Testing loss: {test_loss:.5f} Test_accuracy {test_accuracy:.2f}\")\n",
        "\n",
        "########################################################################################\n",
        "\n",
        "#evaluation function   \n",
        "def evaluate(model:torch.nn.Module,\n",
        "             loss_func:torch.nn.Module,\n",
        "             data_loader:torch.utils.data.DataLoader,\n",
        "             accu\n",
        "             ):\n",
        "  model_name=model.__class__.__name__\n",
        "  model.eval()\n",
        "  loss,accuracy=0,0\n",
        "  with torch.inference_mode():\n",
        "    for x,y in tqdm(data_loader):\n",
        "      x,y=x.to(device),y.to(device)\n",
        "      predict=model(x)\n",
        "      loss+=loss_func(predict,y)\n",
        "      accuracy+=accu(predict.squeeze().argmax(dim=1),y)\n",
        "  loss=loss/len(data_loader)\n",
        "  accuracy=accuracy/len(data_loader)\n",
        "  return {\"Model Name\":model_name,\"Accuracy\":accuracy,\"Loss\":loss.item()}\n",
        "\n"
      ]
    },
    {
      "cell_type": "code",
      "execution_count": 14,
      "metadata": {
        "id": "zY7w5A1io2Om"
      },
      "outputs": [],
      "source": [
        "import torch\n",
        "def details(tensor):\n",
        "  print(\"\")\n",
        "  print(\"Shape: \",tensor.shape)\n",
        "  print(\"Dimentions: \",tensor.ndim)\n",
        "  print(\"###########\")\n",
        "  print(tensor)\n",
        "  print(\"###########\")\n",
        "  print(\"Tensor Data type: \",tensor.dtype)\n",
        "  print(\"Device: \",tensor.device)\n",
        "  print(\"\")\n",
        "\n",
        "def details_plot(train_data, \n",
        "                     train_labels, \n",
        "                     test_data, \n",
        "                     test_labels,\n",
        "                     predictions=None):\n",
        "  \"\"\"\n",
        "  Plots training data, test data and compares predictions.\n",
        "  \"\"\"\n",
        "  plt.figure(figsize=(10, 7))\n",
        "\n",
        "  # Plot training data in blue\n",
        "  plt.scatter(train_data, train_labels, c=\"b\", s=4, label=\"Training data\")\n",
        "  \n",
        "  # Plot test data in green\n",
        "  plt.scatter(test_data, test_labels, c=\"g\", s=4, label=\"Testing data\")\n",
        "\n",
        "  if predictions is not None:\n",
        "    # Plot the predictions in red (predictions were made on the test data)\n",
        "    plt.scatter(test_data, predictions, c=\"r\", s=4, label=\"Predictions\")\n",
        "\n",
        "  # Show the legend\n",
        "  plt.legend(prop={\"size\": 14});\n",
        "\n",
        "def details_loss_curve(epochs,train_loss_track,test_loss_track):\n",
        "  #loss curve\n",
        "  plt.figure(figsize=(8,8))\n",
        "  plt.title(\"Loss curve\")\n",
        "  plt.xlabel(\"Epochs\")\n",
        "  plt.ylabel(\"Loss\")\n",
        "  plt.plot(epochs,train_loss_track,label=\"Train loss\")\n",
        "  plt.plot(epochs,test_loss_track,label=\"Test loss\")\n",
        "  plt.legend(prop={\"size\": 14})\n",
        "\n",
        "import torch\n",
        "def details(tensor):\n",
        "  print(\"\")\n",
        "  print(\"Shape: \",tensor.shape)\n",
        "  print(\"Dimentions: \",tensor.ndim)\n",
        "  print(\"###########\")\n",
        "  print(tensor)\n",
        "  print(\"###########\")\n",
        "  print(\"Tensor Data type: \",tensor.dtype)\n",
        "  print(\"Device: \",tensor.device)\n",
        "  print(\"\")\n",
        "\n",
        "def details_plot(train_data, \n",
        "                     train_labels, \n",
        "                     test_data, \n",
        "                     test_labels,\n",
        "                     predictions=None):\n",
        "  \"\"\"\n",
        "  Plots training data, test data and compares predictions.\n",
        "  \"\"\"\n",
        "  plt.figure(figsize=(10, 7))\n",
        "\n",
        "  # Plot training data in blue\n",
        "  plt.scatter(train_data, train_labels, c=\"b\", s=4, label=\"Training data\")\n",
        "  \n",
        "  # Plot test data in green\n",
        "  plt.scatter(test_data, test_labels, c=\"g\", s=4, label=\"Testing data\")\n",
        "\n",
        "  if predictions is not None:\n",
        "    # Plot the predictions in red (predictions were made on the test data)\n",
        "    plt.scatter(test_data, predictions, c=\"r\", s=4, label=\"Predictions\")\n",
        "\n",
        "  # Show the legend\n",
        "  plt.legend(prop={\"size\": 14});\n",
        "\n",
        "\n",
        "\n",
        "def accu(y_pred,y_test):\n",
        "  correct=torch.eq(y_pred.squeeze(),y_test.squeeze()).sum().item()\n",
        "  accuracy=(correct/len(y_test))*100\n",
        "  return accuracy\n",
        "\n",
        "def details_plot_scatter(x_train, x_test, y_train, y_test,\n",
        "                     predictions=None):\n",
        "  \"\"\"\n",
        "  Plots training data, test data and compares predictions.\n",
        "  \"\"\"\n",
        "  plt.figure(figsize=(10, 7))\n",
        "  plt.scatter(x_train[:,0],x_train[:,1],c=y_train,cmap=plt.cm.BrBG, s=4, label=\"Training data\")\n",
        "  plt.scatter(x_test[:,0],x_test[:,1],c=y_test, s=60, label=\"Test data\")\n",
        "  plt.legend(prop={\"size\": 14});\n",
        "  if predictions is not None:\n",
        "    # Plot the predictions in red (predictions were made on the test data)\n",
        "    plt.scatter(x_test[:,0],x_test[:,1],c=predictions, s=20, label=\"Prediction\")\n",
        "\n",
        "  # Show the legend\n",
        "  plt.legend(prop={\"size\": 14});\n",
        "\n",
        "\n",
        "\n",
        "#traning function #####################################\n",
        "def train(\n",
        "    train_dataloader,\n",
        "    model,\n",
        "    loss_func,\n",
        "    optimizer,\n",
        "    accu,\n",
        "    device):\n",
        "  from tqdm.auto import tqdm  \n",
        "  #loss_tracking\n",
        "  train_loss=0\n",
        "  train_loss_track=[]\n",
        "  train_accuracy=0\n",
        "\n",
        "  #train mode\n",
        "  model=model.to(device)\n",
        "  model.train()\n",
        "\n",
        "  #training loop\n",
        "  for batch, (X,y) in tqdm(enumerate(train_dataloader)):\n",
        "    #device set\n",
        "    X,y=X.to(device),y.to(device)\n",
        "\n",
        "    \n",
        "\n",
        "    #forward propegation\n",
        "    predict=model(X)\n",
        "    #loss calcilation\n",
        "    loss=loss_func(predict,y)\n",
        "    \n",
        "\n",
        "    train_loss_track.append(loss.detach().item())\n",
        "\n",
        "    #clear passed gradients\n",
        "    optimizer.zero_grad()\n",
        "    #back propogation\n",
        "    loss.backward()\n",
        "    #update new values for weight and bias\n",
        "    optimizer.step()\n",
        "\n",
        "    #print(loss,batch)\n",
        "    train_loss_track.append(loss.detach().item())\n",
        "    \n",
        "    train_loss+=loss_func(predict,y)\n",
        "    train_accuracy+=accu(predict.squeeze().argmax(dim=1),y)\n",
        "  \n",
        "  #average_loss\n",
        "  train_loss=train_loss/len(train_dataloader)\n",
        "  train_accuracy=train_accuracy/len(train_dataloader)\n",
        "\n",
        "  print(f\"Training loss: {train_loss:.5f} Train_accuracy {train_accuracy:.2f}\")\n",
        "\n",
        "  \n",
        "#testing function##################################\n",
        "def test(\n",
        "    test_dataloader,\n",
        "    model,\n",
        "    loss_func,\n",
        "    accu,\n",
        "    device):\n",
        "  from tqdm.auto import tqdm  \n",
        "  #loss_tracking\n",
        "  test_loss=0\n",
        "  test_loss_track=[]\n",
        "  test_accuracy=0\n",
        "\n",
        "  #testing loop\n",
        "  model.eval()\n",
        "\n",
        "  with torch.inference_mode():\n",
        "    for batch, (X,y) in tqdm(enumerate(test_dataloader)):\n",
        "      #device set\n",
        "      X,y=X.to(device),y.to(device)\n",
        "\n",
        "      \n",
        "      #forward propegation\n",
        "      predict=model(X)\n",
        "      #loss calcilation\n",
        "      loss=loss_func(predict,y)\n",
        "      \n",
        "\n",
        "      test_loss_track.append(loss.detach().item())\n",
        "\n",
        "      #print(loss,batch)\n",
        "      test_loss_track.append(loss.detach().item())\n",
        "      \n",
        "      test_loss+=loss_func(predict,y)\n",
        "      test_accuracy+=accu(predict.squeeze().argmax(dim=1),y)\n",
        "  \n",
        "  #average_loss\n",
        "  test_loss=test_loss/len(test_dataloader)\n",
        "  test_accuracy=test_accuracy/len(test_dataloader)\n",
        "\n",
        "  print(f\"Testing loss: {test_loss:.5f} Test_accuracy {test_accuracy:.2f}\")\n",
        "\n",
        "#evaluation function ############################  \n",
        "def evaluate(model:torch.nn.Module,\n",
        "             loss_func:torch.nn.Module,\n",
        "             data_loader:torch.utils.data.DataLoader,\n",
        "             accu,\n",
        "             device\n",
        "             ):\n",
        "  model_name=model.__class__.__name__\n",
        "  model.eval()\n",
        "  loss,accuracy=0,0\n",
        "  with torch.inference_mode():\n",
        "    for x,y in tqdm(data_loader):\n",
        "      x,y=x.to(device),y.to(device)\n",
        "      predict=model(x)\n",
        "      loss+=loss_func(predict,y)\n",
        "      accuracy+=accu(predict.squeeze().argmax(dim=1),y)\n",
        "  loss=loss/len(data_loader)\n",
        "  accuracy=accuracy/len(data_loader)\n",
        "  return {\"Model Name\":model_name,\"Accuracy\":accuracy,\"Loss\":loss.item()}\n",
        "\n"
      ]
    },
    {
      "cell_type": "markdown",
      "metadata": {
        "id": "sMRYymjLIGWp"
      },
      "source": [
        "###GPU"
      ]
    },
    {
      "cell_type": "code",
      "execution_count": 5,
      "metadata": {
        "colab": {
          "base_uri": "https://localhost:8080/"
        },
        "id": "7nw_wfJXIIs0",
        "outputId": "d65ed803-8729-4caa-e1cd-e919ebbcad1a"
      },
      "outputs": [
        {
          "output_type": "stream",
          "name": "stdout",
          "text": [
            "Fri Apr 28 09:50:28 2023       \n",
            "+-----------------------------------------------------------------------------+\n",
            "| NVIDIA-SMI 525.85.12    Driver Version: 525.85.12    CUDA Version: 12.0     |\n",
            "|-------------------------------+----------------------+----------------------+\n",
            "| GPU  Name        Persistence-M| Bus-Id        Disp.A | Volatile Uncorr. ECC |\n",
            "| Fan  Temp  Perf  Pwr:Usage/Cap|         Memory-Usage | GPU-Util  Compute M. |\n",
            "|                               |                      |               MIG M. |\n",
            "|===============================+======================+======================|\n",
            "|   0  Tesla T4            Off  | 00000000:00:04.0 Off |                    0 |\n",
            "| N/A   44C    P8     9W /  70W |      0MiB / 15360MiB |      0%      Default |\n",
            "|                               |                      |                  N/A |\n",
            "+-------------------------------+----------------------+----------------------+\n",
            "                                                                               \n",
            "+-----------------------------------------------------------------------------+\n",
            "| Processes:                                                                  |\n",
            "|  GPU   GI   CI        PID   Type   Process name                  GPU Memory |\n",
            "|        ID   ID                                                   Usage      |\n",
            "|=============================================================================|\n",
            "|  No running processes found                                                 |\n",
            "+-----------------------------------------------------------------------------+\n",
            "True\n",
            "cuda\n"
          ]
        }
      ],
      "source": [
        "!nvidia-smi\n",
        "print(torch.cuda.is_available())\n",
        "#setup device agnostic code\n",
        "device=\"cuda\" if torch.cuda.is_available() else \"cpu\"\n",
        "print(device)"
      ]
    },
    {
      "cell_type": "markdown",
      "metadata": {
        "id": "ptqUbYftO67F"
      },
      "source": [
        "##DATA PROCESS \n"
      ]
    },
    {
      "cell_type": "markdown",
      "metadata": {
        "id": "oMw_nOmGLh5O"
      },
      "source": [
        "ex- tensor data-> x_train,y_train,x_test,y_test\n"
      ]
    },
    {
      "cell_type": "code",
      "execution_count": null,
      "metadata": {
        "id": "Khi062A2O-_5"
      },
      "outputs": [],
      "source": [
        "# cvideo to image\n",
        "import cv2\n",
        "\n",
        "def convert_video_to_images(video_path, output_path):\n",
        "    video_capture = cv2.VideoCapture(video_path)\n",
        "    frame_count = 0\n",
        "\n",
        "    while True:\n",
        "        success, frame = video_capture.read()\n",
        "        if not success:\n",
        "            break\n",
        "\n",
        "        output_file = f\"{output_path}/00{frame_count}.jpg\"\n",
        "        cv2.imwrite(output_file, frame)\n",
        "        print(\"done\")\n",
        "        frame_count += 1\n",
        "\n",
        "    video_capture.release()\n",
        "\n",
        "\n",
        "#weight and bias\n",
        "\n",
        "  #######to prevent mat multiplication error   .unsqueeze(dim=1)\n",
        "\n",
        "#dataloader\n"
      ]
    },
    {
      "cell_type": "code",
      "source": [
        "# cvideo to image\n"
      ],
      "metadata": {
        "id": "IZCVviyEUEz9"
      },
      "execution_count": 29,
      "outputs": []
    },
    {
      "cell_type": "code",
      "source": [
        "\n",
        "def vid_to_tensor(vid_path):\n",
        "  import cv2\n",
        "  video_capture = cv2.VideoCapture(vid_path)\n",
        "  tensor_name=[]\n",
        "  frame_count = 0\n",
        "  while True:\n",
        "    success, frame = video_capture.read()\n",
        "    if not success:\n",
        "        break\n",
        "    tensor_name.append(frame)\n",
        "    #output_file = f\"{output_path}/00{frame_count}.jpg\"\n",
        "    #cv2.imwrite(output_file, frame)\n",
        "    frame_count += 1\n",
        "  video_capture.release()\n",
        "  print(f\"Total pictures: {frame_count}\")\n",
        "  return tensor_name\n",
        "\n",
        "happy=torch.from_numpy(np.array(vid_to_tensor(\"happy.mp4\")))\n",
        "sad=torch.from_numpy(np.array(vid_to_tensor(\"sad.mp4\")))\n",
        "\n"
      ],
      "metadata": {
        "id": "MxMyVU5nUaEV",
        "outputId": "2220d76f-b682-420b-93ed-f4cd5fdbc1ac",
        "colab": {
          "base_uri": "https://localhost:8080/"
        }
      },
      "execution_count": 50,
      "outputs": [
        {
          "output_type": "stream",
          "name": "stdout",
          "text": [
            "Total pictures: 156\n",
            "Total pictures: 193\n"
          ]
        }
      ]
    },
    {
      "cell_type": "code",
      "source": [
        "sample_img=happy[60]"
      ],
      "metadata": {
        "id": "SxLb8Sj3dB4V"
      },
      "execution_count": 54,
      "outputs": []
    },
    {
      "cell_type": "code",
      "source": [
        "sample_img"
      ],
      "metadata": {
        "id": "900lYiTKdGf4",
        "outputId": "18defd9a-8739-47df-ddf7-b502f6ed2a75",
        "colab": {
          "base_uri": "https://localhost:8080/"
        }
      },
      "execution_count": 56,
      "outputs": [
        {
          "output_type": "execute_result",
          "data": {
            "text/plain": [
              "torch.Size([852, 480, 3])"
            ]
          },
          "metadata": {},
          "execution_count": 56
        }
      ]
    },
    {
      "cell_type": "code",
      "source": [
        "plt.imshow(happy[60])"
      ],
      "metadata": {
        "id": "u9F_Wqh5Ug7o",
        "outputId": "ec418095-aea5-4979-e32e-ec6f874c6121",
        "colab": {
          "base_uri": "https://localhost:8080/",
          "height": 452
        }
      },
      "execution_count": 53,
      "outputs": [
        {
          "output_type": "execute_result",
          "data": {
            "text/plain": [
              "<matplotlib.image.AxesImage at 0x7fd04cd2d480>"
            ]
          },
          "metadata": {},
          "execution_count": 53
        },
        {
          "output_type": "display_data",
          "data": {
            "text/plain": [
              "<Figure size 640x480 with 1 Axes>"
            ],
            "image/png": "[encoded data removed]"
          },
          "metadata": {}
        }
      ]
    },
    {
      "cell_type": "code",
      "execution_count": 7,
      "metadata": {
        "id": "SGZ3v5LHPG_A"
      },
      "outputs": [],
      "source": [
        "# create train/test split\n"
      ]
    },
    {
      "cell_type": "code",
      "execution_count": 8,
      "metadata": {
        "id": "Ju3JoT5WP-V7"
      },
      "outputs": [],
      "source": [
        "# plot and visualize it\n"
      ]
    },
    {
      "cell_type": "markdown",
      "metadata": {
        "id": "Tto_QOOaQS7A"
      },
      "source": [
        "##BUILDING THE MODEL\n"
      ]
    },
    {
      "cell_type": "markdown",
      "metadata": {
        "id": "Zxa0ngYiLY52"
      },
      "source": [
        "tips\n",
        "1. torch.nn.find_suitable_loss\n",
        "2. torch.nn.Paramenter\n",
        "3. torch.nn.Module this is base class\n",
        "4. torch.optim - optimizer"
      ]
    },
    {
      "cell_type": "code",
      "execution_count": 9,
      "metadata": {
        "id": "fchfssqDQLCG"
      },
      "outputs": [],
      "source": [
        "#model\n",
        "class Model_name(nn.Module):\n",
        "  def __init__(self):\n",
        "    super().__init__()\n",
        "    #model_structer\n",
        "   \n",
        "  def forward(self,x: torch.Tensor) -> torch.Tensor:\n",
        "\n",
        "\n",
        "    return ##\n",
        "\n",
        "\n",
        "\n",
        "#discription of model\n"
      ]
    },
    {
      "cell_type": "code",
      "execution_count": 10,
      "metadata": {
        "id": "O_aqHJKRZAcj"
      },
      "outputs": [],
      "source": [
        "#make inference/prediction and visualize the model\n"
      ]
    },
    {
      "cell_type": "markdown",
      "metadata": {
        "id": "VxS7K9TsgiSY"
      },
      "source": [
        "##CREATE OPTIMIZER / LOSS_FUNC"
      ]
    },
    {
      "cell_type": "code",
      "execution_count": 11,
      "metadata": {
        "id": "EaAq8b2yehWZ"
      },
      "outputs": [],
      "source": [
        "#create loss func\n",
        "\n",
        "#optimizer\n",
        "\n"
      ]
    },
    {
      "cell_type": "markdown",
      "metadata": {
        "id": "6vBh6ZxMPsYt"
      },
      "source": [
        "##TRAINING / TESTING LOOP"
      ]
    },
    {
      "cell_type": "markdown",
      "metadata": {
        "id": "ntg6do8cclFi"
      },
      "source": [
        "tips\n",
        "0. Loop throug the data\n",
        "1. set to training mode\n",
        "2. Forward pass\n",
        "3. Calculate the loss(pred to ground truth)\n",
        "4. optimizer zer grad\n",
        "5. loss backward .. back propogation\n",
        "6. optimizer step - use opt and adjust parameter ... grad desent\n"
      ]
    },
    {
      "cell_type": "code",
      "execution_count": 12,
      "metadata": {
        "colab": {
          "base_uri": "https://localhost:8080/",
          "height": 223,
          "referenced_widgets": [
            "09fd3fcf246448ada0e5114dde1328fe",
            "258c3ad11ff3499f97b6bc09a9c68875",
            "1621f6b6af4a40a3a016f1fb09b3e48b",
            "00f6e5e3a0aa4f48907904a4a014fc9d",
            "0730dd27d8bc44148768f6402439ce82",
            "644121a93fdd413a918b465d60085667",
            "b7a7059d557a440ea6824ac1949f58a9",
            "e88b0e6e4eba4743b205b44738f7dbe8",
            "f5e6bbfd89d340b99087ba25f054fa46",
            "df9a7ef3842744bf8bdd9a605e1622b8",
            "3dee7caf116a46d7890172711029002f"
          ]
        },
        "id": "UuHsExVJbq5E",
        "outputId": "17947465-618a-4830-880a-330fa1b54ad7"
      },
      "outputs": [
        {
          "output_type": "display_data",
          "data": {
            "text/plain": [
              "  0%|          | 0/10 [00:00<?, ?it/s]"
            ],
            "application/vnd.jupyter.widget-view+json": {
              "version_major": 2,
              "version_minor": 0,
              "model_id": "09fd3fcf246448ada0e5114dde1328fe"
            }
          },
          "metadata": {}
        },
        {
          "output_type": "stream",
          "name": "stdout",
          "text": [
            "Epoch 0\n",
            "Epoch 1\n",
            "Epoch 2\n",
            "Epoch 3\n",
            "Epoch 4\n",
            "Epoch 5\n",
            "Epoch 6\n",
            "Epoch 7\n",
            "Epoch 8\n",
            "Epoch 9\n"
          ]
        }
      ],
      "source": [
        "#initiate trackers and hyper parameters\n",
        "\n",
        "epochs=10\n",
        "model=\"model_name\"\n",
        " \n",
        "for epoch in tqdm(range(epochs)):\n",
        "  print(f\"Epoch {epoch}\")\n",
        "  #train(train_dataloader,model,loss_func,optimizer,accu,device)\n",
        "  #test(test_dataloader,model,loss_func,accu,device)\n",
        "\n"
      ]
    },
    {
      "cell_type": "code",
      "execution_count": 12,
      "metadata": {
        "id": "rsPgMokiq7qf"
      },
      "outputs": [],
      "source": []
    },
    {
      "cell_type": "markdown",
      "metadata": {
        "id": "BNgX5AsNKXxH"
      },
      "source": [
        "##EVALUATION OF THE MODEL"
      ]
    },
    {
      "cell_type": "code",
      "execution_count": 13,
      "metadata": {
        "id": "tCba4hBEeOa-"
      },
      "outputs": [],
      "source": [
        "#plot / matrices\n",
        "\n"
      ]
    },
    {
      "cell_type": "markdown",
      "metadata": {
        "id": "KwxZmgXUPJgI"
      },
      "source": [
        "##SAVING/LOADING"
      ]
    },
    {
      "cell_type": "markdown",
      "metadata": {
        "id": "zW_QlscXPZsx"
      },
      "source": [
        "tips\n",
        "1.  torch.save() \n",
        "2.  torch.load()\n",
        "3.  toch.nn.Module.load_state_dict()"
      ]
    },
    {
      "cell_type": "code",
      "execution_count": 13,
      "metadata": {
        "id": "se4kqYtmQwPX"
      },
      "outputs": [],
      "source": [
        "\n"
      ]
    },
    {
      "cell_type": "code",
      "execution_count": 13,
      "metadata": {
        "id": "na5mRKb3fvDb"
      },
      "outputs": [],
      "source": []
    },
    {
      "cell_type": "code",
      "source": [],
      "metadata": {
        "id": "zua3XgMEi3xA"
      },
      "execution_count": 13,
      "outputs": []
    }
  ],
  "metadata": {
    "accelerator": "GPU",
    "colab": {
      "provenance": [],
      "include_colab_link": true
    },
    "gpuClass": "standard",
    "kernelspec": {
      "display_name": "Python 3",
      "name": "python3"
    },
    "language_info": {
      "codemirror_mode": {
        "name": "ipython",
        "version": 3
      },
      "file_extension": ".py",
      "mimetype": "text/x-python",
      "name": "python",
      "nbconvert_exporter": "python",
      "pygments_lexer": "ipython3",
      "version": "3.10.4"
    },
    "widgets": {
      "application/vnd.jupyter.widget-state+json": {
        "09fd3fcf246448ada0e5114dde1328fe": {
          "model_module": "@jupyter-widgets/controls",
          "model_name": "HBoxModel",
          "model_module_version": "1.5.0",
          "state": {
            "_dom_classes": [],
            "_model_module": "@jupyter-widgets/controls",
            "_model_module_version": "1.5.0",
            "_model_name": "HBoxModel",
            "_view_count": null,
            "_view_module": "@jupyter-widgets/controls",
            "_view_module_version": "1.5.0",
            "_view_name": "HBoxView",
            "box_style": "",
            "children": [
              "IPY_MODEL_258c3ad11ff3499f97b6bc09a9c68875",
              "IPY_MODEL_1621f6b6af4a40a3a016f1fb09b3e48b",
              "IPY_MODEL_00f6e5e3a0aa4f48907904a4a014fc9d"
            ],
            "layout": "IPY_MODEL_0730dd27d8bc44148768f6402439ce82"
          }
        },
        "258c3ad11ff3499f97b6bc09a9c68875": {
          "model_module": "@jupyter-widgets/controls",
          "model_name": "HTMLModel",
          "model_module_version": "1.5.0",
          "state": {
            "_dom_classes": [],
            "_model_module": "@jupyter-widgets/controls",
            "_model_module_version": "1.5.0",
            "_model_name": "HTMLModel",
            "_view_count": null,
            "_view_module": "@jupyter-widgets/controls",
            "_view_module_version": "1.5.0",
            "_view_name": "HTMLView",
            "description": "",
            "description_tooltip": null,
            "layout": "IPY_MODEL_644121a93fdd413a918b465d60085667",
            "placeholder": "​",
            "style": "IPY_MODEL_b7a7059d557a440ea6824ac1949f58a9",
            "value": "100%"
          }
        },
        "1621f6b6af4a40a3a016f1fb09b3e48b": {
          "model_module": "@jupyter-widgets/controls",
          "model_name": "FloatProgressModel",
          "model_module_version": "1.5.0",
          "state": {
            "_dom_classes": [],
            "_model_module": "@jupyter-widgets/controls",
            "_model_module_version": "1.5.0",
            "_model_name": "FloatProgressModel",
            "_view_count": null,
            "_view_module": "@jupyter-widgets/controls",
            "_view_module_version": "1.5.0",
            "_view_name": "ProgressView",
            "bar_style": "success",
            "description": "",
            "description_tooltip": null,
            "layout": "IPY_MODEL_e88b0e6e4eba4743b205b44738f7dbe8",
            "max": 10,
            "min": 0,
            "orientation": "horizontal",
            "style": "IPY_MODEL_f5e6bbfd89d340b99087ba25f054fa46",
            "value": 10
          }
        },
        "00f6e5e3a0aa4f48907904a4a014fc9d": {
          "model_module": "@jupyter-widgets/controls",
          "model_name": "HTMLModel",
          "model_module_version": "1.5.0",
          "state": {
            "_dom_classes": [],
            "_model_module": "@jupyter-widgets/controls",
            "_model_module_version": "1.5.0",
            "_model_name": "HTMLModel",
            "_view_count": null,
            "_view_module": "@jupyter-widgets/controls",
            "_view_module_version": "1.5.0",
            "_view_name": "HTMLView",
            "description": "",
            "description_tooltip": null,
            "layout": "IPY_MODEL_df9a7ef3842744bf8bdd9a605e1622b8",
            "placeholder": "​",
            "style": "IPY_MODEL_3dee7caf116a46d7890172711029002f",
            "value": " 10/10 [00:00&lt;00:00, 439.80it/s]"
          }
        },
        "0730dd27d8bc44148768f6402439ce82": {
          "model_module": "@jupyter-widgets/base",
          "model_name": "LayoutModel",
          "model_module_version": "1.2.0",
          "state": {
            "_model_module": "@jupyter-widgets/base",
            "_model_module_version": "1.2.0",
            "_model_name": "LayoutModel",
            "_view_count": null,
            "_view_module": "@jupyter-widgets/base",
            "_view_module_version": "1.2.0",
            "_view_name": "LayoutView",
            "align_content": null,
            "align_items": null,
            "align_self": null,
            "border": null,
            "bottom": null,
            "display": null,
            "flex": null,
            "flex_flow": null,
            "grid_area": null,
            "grid_auto_columns": null,
            "grid_auto_flow": null,
            "grid_auto_rows": null,
            "grid_column": null,
            "grid_gap": null,
            "grid_row": null,
            "grid_template_areas": null,
            "grid_template_columns": null,
            "grid_template_rows": null,
            "height": null,
            "justify_content": null,
            "justify_items": null,
            "left": null,
            "margin": null,
            "max_height": null,
            "max_width": null,
            "min_height": null,
            "min_width": null,
            "object_fit": null,
            "object_position": null,
            "order": null,
            "overflow": null,
            "overflow_x": null,
            "overflow_y": null,
            "padding": null,
            "right": null,
            "top": null,
            "visibility": null,
            "width": null
          }
        },
        "644121a93fdd413a918b465d60085667": {
          "model_module": "@jupyter-widgets/base",
          "model_name": "LayoutModel",
          "model_module_version": "1.2.0",
          "state": {
            "_model_module": "@jupyter-widgets/base",
            "_model_module_version": "1.2.0",
            "_model_name": "LayoutModel",
            "_view_count": null,
            "_view_module": "@jupyter-widgets/base",
            "_view_module_version": "1.2.0",
            "_view_name": "LayoutView",
            "align_content": null,
            "align_items": null,
            "align_self": null,
            "border": null,
            "bottom": null,
            "display": null,
            "flex": null,
            "flex_flow": null,
            "grid_area": null,
            "grid_auto_columns": null,
            "grid_auto_flow": null,
            "grid_auto_rows": null,
            "grid_column": null,
            "grid_gap": null,
            "grid_row": null,
            "grid_template_areas": null,
            "grid_template_columns": null,
            "grid_template_rows": null,
            "height": null,
            "justify_content": null,
            "justify_items": null,
            "left": null,
            "margin": null,
            "max_height": null,
            "max_width": null,
            "min_height": null,
            "min_width": null,
            "object_fit": null,
            "object_position": null,
            "order": null,
            "overflow": null,
            "overflow_x": null,
            "overflow_y": null,
            "padding": null,
            "right": null,
            "top": null,
            "visibility": null,
            "width": null
          }
        },
        "b7a7059d557a440ea6824ac1949f58a9": {
          "model_module": "@jupyter-widgets/controls",
          "model_name": "DescriptionStyleModel",
          "model_module_version": "1.5.0",
          "state": {
            "_model_module": "@jupyter-widgets/controls",
            "_model_module_version": "1.5.0",
            "_model_name": "DescriptionStyleModel",
            "_view_count": null,
            "_view_module": "@jupyter-widgets/base",
            "_view_module_version": "1.2.0",
            "_view_name": "StyleView",
            "description_width": ""
          }
        },
        "e88b0e6e4eba4743b205b44738f7dbe8": {
          "model_module": "@jupyter-widgets/base",
          "model_name": "LayoutModel",
          "model_module_version": "1.2.0",
          "state": {
            "_model_module": "@jupyter-widgets/base",
            "_model_module_version": "1.2.0",
            "_model_name": "LayoutModel",
            "_view_count": null,
            "_view_module": "@jupyter-widgets/base",
            "_view_module_version": "1.2.0",
            "_view_name": "LayoutView",
            "align_content": null,
            "align_items": null,
            "align_self": null,
            "border": null,
            "bottom": null,
            "display": null,
            "flex": null,
            "flex_flow": null,
            "grid_area": null,
            "grid_auto_columns": null,
            "grid_auto_flow": null,
            "grid_auto_rows": null,
            "grid_column": null,
            "grid_gap": null,
            "grid_row": null,
            "grid_template_areas": null,
            "grid_template_columns": null,
            "grid_template_rows": null,
            "height": null,
            "justify_content": null,
            "justify_items": null,
            "left": null,
            "margin": null,
            "max_height": null,
            "max_width": null,
            "min_height": null,
            "min_width": null,
            "object_fit": null,
            "object_position": null,
            "order": null,
            "overflow": null,
            "overflow_x": null,
            "overflow_y": null,
            "padding": null,
            "right": null,
            "top": null,
            "visibility": null,
            "width": null
          }
        },
        "f5e6bbfd89d340b99087ba25f054fa46": {
          "model_module": "@jupyter-widgets/controls",
          "model_name": "ProgressStyleModel",
          "model_module_version": "1.5.0",
          "state": {
            "_model_module": "@jupyter-widgets/controls",
            "_model_module_version": "1.5.0",
            "_model_name": "ProgressStyleModel",
            "_view_count": null,
            "_view_module": "@jupyter-widgets/base",
            "_view_module_version": "1.2.0",
            "_view_name": "StyleView",
            "bar_color": null,
            "description_width": ""
          }
        },
        "df9a7ef3842744bf8bdd9a605e1622b8": {
          "model_module": "@jupyter-widgets/base",
          "model_name": "LayoutModel",
          "model_module_version": "1.2.0",
          "state": {
            "_model_module": "@jupyter-widgets/base",
            "_model_module_version": "1.2.0",
            "_model_name": "LayoutModel",
            "_view_count": null,
            "_view_module": "@jupyter-widgets/base",
            "_view_module_version": "1.2.0",
            "_view_name": "LayoutView",
            "align_content": null,
            "align_items": null,
            "align_self": null,
            "border": null,
            "bottom": null,
            "display": null,
            "flex": null,
            "flex_flow": null,
            "grid_area": null,
            "grid_auto_columns": null,
            "grid_auto_flow": null,
            "grid_auto_rows": null,
            "grid_column": null,
            "grid_gap": null,
            "grid_row": null,
            "grid_template_areas": null,
            "grid_template_columns": null,
            "grid_template_rows": null,
            "height": null,
            "justify_content": null,
            "justify_items": null,
            "left": null,
            "margin": null,
            "max_height": null,
            "max_width": null,
            "min_height": null,
            "min_width": null,
            "object_fit": null,
            "object_position": null,
            "order": null,
            "overflow": null,
            "overflow_x": null,
            "overflow_y": null,
            "padding": null,
            "right": null,
            "top": null,
            "visibility": null,
            "width": null
          }
        },
        "3dee7caf116a46d7890172711029002f": {
          "model_module": "@jupyter-widgets/controls",
          "model_name": "DescriptionStyleModel",
          "model_module_version": "1.5.0",
          "state": {
            "_model_module": "@jupyter-widgets/controls",
            "_model_module_version": "1.5.0",
            "_model_name": "DescriptionStyleModel",
            "_view_count": null,
            "_view_module": "@jupyter-widgets/base",
            "_view_module_version": "1.2.0",
            "_view_name": "StyleView",
            "description_width": ""
          }
        }
      }
    }
  },
  "nbformat": 4,
  "nbformat_minor": 0
}